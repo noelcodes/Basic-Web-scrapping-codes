{
 "cells": [
  {
   "cell_type": "code",
   "execution_count": 31,
   "metadata": {},
   "outputs": [],
   "source": [
    "import numpy as np\n",
    "import pandas as pd\n",
    "import seaborn as sns\n",
    "from bs4 import BeautifulSoup\n",
    "\n",
    "from time import sleep\n",
    "import os\n",
    "\n",
    "from selenium import webdriver\n",
    "chrome_path = r\"C:\\Users\\default.LAPTOP-2CI68M4P\\Downloads\\chromedriver_win32\\chromedriver.exe\""
   ]
  },
  {
   "cell_type": "code",
   "execution_count": 32,
   "metadata": {},
   "outputs": [],
   "source": [
    "driver = webdriver.Chrome(chrome_path)"
   ]
  },
  {
   "cell_type": "code",
   "execution_count": 33,
   "metadata": {},
   "outputs": [],
   "source": [
    "alljoburls = []\n",
    "for page in range(0,1):   #for page in range(0,10)\n",
    "    url = \"https://www.mycareersfuture.sg/search?search=data&page=\" + '{}'.format(page)\n",
    "    driver.get(url)\n",
    "    sleep(5)\n",
    "    html_ = driver.page_source\n",
    "    html_ = BeautifulSoup(html_, 'lxml')\n",
    "    for item in html_.findAll('a', {\"class\": \"bg-white mb3 w-100 dib v-top pa3 no-underline flex-ns flex-wrap JobCard__card___22xP3\"}):\n",
    "        joburl = item.get('href')\n",
    "        alljoburls.append(joburl)"
   ]
  },
  {
   "cell_type": "code",
   "execution_count": 34,
   "metadata": {
    "scrolled": false
   },
   "outputs": [],
   "source": [
    "# len(alljoburl)   # Noel this url works...\n"
   ]
  },
  {
   "cell_type": "code",
   "execution_count": 37,
   "metadata": {},
   "outputs": [],
   "source": [
    "companyname = []\n",
    "jobtitle = []\n",
    "salary = []\n",
    "description = []\n",
    "words = []\n",
    "Role = []\n",
    "Requirements = []\n",
    "seniority = []\n",
    "employment_type = []\n",
    "job_categories = []\n",
    "Government_support = []\n",
    "\n",
    "for jobid in alljoburl:\n",
    "    joburl = \"https://www.mycareersfuture.sg\" + '{}'.format(jobid)\n",
    "    driver.get(joburl)\n",
    "    sleep(5)\n",
    "    jobpage = driver.page_source\n",
    "    jobpage = BeautifulSoup(jobpage, 'lxml')\n",
    "\n",
    "    for item in jobpage.findAll('p', {\"id\": \"company\"}):\n",
    "        comp = item.text\n",
    "        companyname.append(comp)  # Noel company name works\n",
    "            \n",
    "    for item in jobpage.findAll('h1', {\"id\": \"job_title\"}):\n",
    "        title = item.text\n",
    "        jobtitle.append(title)  # Noel company name works\n",
    "\n",
    "    for item in jobpage.findAll('div', {\"class\": \"lh-solid\"}):\n",
    "        ssss = item.text\n",
    "        words = ssss.replace(',', '')\n",
    "        word = words.replace('$', '')\n",
    "        salary.append(word)  # Noel company name works\n",
    "\n",
    "    des = jobpage.find('div', {\"id\": \"content\"}).text\n",
    "    description.append(des)  # Noel company name works \n",
    "    \n",
    "    role = jobpage.find('div', {\"class\": \"mv4\"}).text\n",
    "    Role.append(role)  # Noel company name works\n",
    "    \n",
    "    req = jobpage.find_all('div',{'id':'content'})  #.text\n",
    "    if req == None:\n",
    "        req1 = 'NA'\n",
    "    else:\n",
    "        req1 = req[1].text\n",
    "        \n",
    "    Requirements.append(req1)\n",
    "    \n",
    "    sen = jobpage.find('p', {\"id\": \"seniority\"}).text\n",
    "    seniority.append(sen) \n",
    "    \n",
    "    emp = jobpage.find('p', {\"id\": \"employment_type\"}).text\n",
    "    employment_type.append(emp)\n",
    "    \n",
    "    job_cat = jobpage.find('p', {\"id\": \"job-categories\"}).text\n",
    "    job_categories.append(job_cat) \n",
    "    \n",
    "#     govs = jobpage.find('p', {\"class\": \"f5 fw7 pa0 mh0 mt0 mb4 brand-sec\"}).text\n",
    "#     Government_support.append(govs) "
   ]
  },
  {
   "cell_type": "code",
   "execution_count": null,
   "metadata": {},
   "outputs": [],
   "source": []
  },
  {
   "cell_type": "code",
   "execution_count": 30,
   "metadata": {},
   "outputs": [],
   "source": [
    "driver.close()"
   ]
  },
  {
   "cell_type": "code",
   "execution_count": null,
   "metadata": {},
   "outputs": [],
   "source": []
  },
  {
   "cell_type": "code",
   "execution_count": null,
   "metadata": {},
   "outputs": [],
   "source": []
  },
  {
   "cell_type": "code",
   "execution_count": null,
   "metadata": {},
   "outputs": [],
   "source": []
  },
  {
   "cell_type": "code",
   "execution_count": null,
   "metadata": {},
   "outputs": [],
   "source": []
  }
 ],
 "metadata": {
  "kernelspec": {
   "display_name": "Python 2",
   "language": "python",
   "name": "python2"
  },
  "language_info": {
   "codemirror_mode": {
    "name": "ipython",
    "version": 2
   },
   "file_extension": ".py",
   "mimetype": "text/x-python",
   "name": "python",
   "nbconvert_exporter": "python",
   "pygments_lexer": "ipython2",
   "version": "2.7.14"
  }
 },
 "nbformat": 4,
 "nbformat_minor": 2
}
